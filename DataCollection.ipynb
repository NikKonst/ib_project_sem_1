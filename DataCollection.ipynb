{
 "cells": [
  {
   "cell_type": "code",
   "execution_count": null,
   "metadata": {
    "id": "1dWkVOYMTess"
   },
   "outputs": [],
   "source": [
    "!pip install pymed\n",
    "!pip install mechanize\n",
    "!pip install html2text\n",
    "!pip install pandas"
   ]
  },
  {
   "cell_type": "code",
   "execution_count": null,
   "metadata": {
    "id": "AR4IDQLPNVeI"
   },
   "outputs": [],
   "source": [
    "import pandas as pd\n",
    "import requests\n",
    "import io\n",
    "import pymed\n",
    "import mechanize\n",
    "import re\n",
    "import time\n",
    "import sys\n",
    "import html2text\n",
    "import http.cookiejar\n",
    "import numpy as np"
   ]
  },
  {
   "cell_type": "code",
   "execution_count": null,
   "metadata": {
    "colab": {
     "base_uri": "https://localhost:8080/"
    },
    "id": "yB-qJkqPVuhQ",
    "outputId": "4c8dde1c-028e-4912-daa6-6ce191ebdcb4"
   },
   "outputs": [],
   "source": [
    "from google.colab import drive\n",
    "drive.mount('/content/gdrive')"
   ]
  },
  {
   "cell_type": "markdown",
   "metadata": {
    "id": "sxjG8L1uSZ9t"
   },
   "source": [
    "# 1. Download all genes dataset from HGNC with OMIM ID"
   ]
  },
  {
   "cell_type": "code",
   "execution_count": null,
   "metadata": {
    "colab": {
     "base_uri": "https://localhost:8080/"
    },
    "id": "AMG0G7Gvhh72",
    "outputId": "a291ede3-21a6-42f7-d50e-e192264a249e"
   },
   "outputs": [],
   "source": [
    "url = 'https://www.genenames.org/cgi-bin/download/custom?col=gd_hgnc_id&col=gd_app_sym&col=gd_app_name&col=gd_status&col=gd_prev_sym&col=gd_aliases&col=gd_pub_chrom_map&col=gd_pub_acc_ids&col=gd_pub_refseq_ids&col=md_mim_id&status=Approved&status=Entry%20Withdrawn&hgnc_dbtag=on&order_by=gd_app_sym_sort&format=text&submit=submit'\n",
    "\n",
    "r = requests.get(url)\n",
    "if r.ok:\n",
    "    data = r.content.decode('utf8')\n",
    "    df = pd.read_csv(io.StringIO(data), sep='\\t')\n",
    "\n",
    "df.shape"
   ]
  },
  {
   "cell_type": "code",
   "execution_count": null,
   "metadata": {
    "colab": {
     "base_uri": "https://localhost:8080/"
    },
    "id": "tt7PrJjzNkOZ",
    "outputId": "938071d2-37ac-4656-de73-0c7cbcce4412"
   },
   "outputs": [],
   "source": [
    "df[df['OMIM ID(supplied by OMIM)'].notnull()].shape"
   ]
  },
  {
   "cell_type": "markdown",
   "metadata": {
    "id": "ZsvYNvfcSxkw"
   },
   "source": [
    "We hane 47461 genes and 16304 of them have OMIM ID"
   ]
  },
  {
   "cell_type": "code",
   "execution_count": null,
   "metadata": {
    "id": "jngqqKhQWSMe"
   },
   "outputs": [],
   "source": [
    "df.to_csv('gdrive/MyDrive/Биоинформатика/ИБ/Проект/Data/1_genenames.csv', index=False)\n",
    "# df.to_csv('Data/1_genenames.csv', index=False)"
   ]
  },
  {
   "cell_type": "markdown",
   "metadata": {
    "id": "o81oiM9RTL1i"
   },
   "source": [
    "# 2. Parse PubMed ID for genes which are in HGMD and OMIM"
   ]
  },
  {
   "cell_type": "markdown",
   "metadata": {
    "id": "-yWJCjaxXPhH"
   },
   "source": [
    "We create parcer which enter name of gene on http://www.hgmd.org/\n",
    "\n",
    "If gene available it search OMIM link to gene and find all of the PubMed IDs for these gene"
   ]
  },
  {
   "cell_type": "markdown",
   "metadata": {
    "id": "ZxxVpjvwebp3"
   },
   "source": [
    "## 2.1. Login"
   ]
  },
  {
   "cell_type": "code",
   "execution_count": null,
   "metadata": {
    "colab": {
     "base_uri": "https://localhost:8080/"
    },
    "id": "RtuTGGKJXmDT",
    "outputId": "da920fc8-2cdb-43c3-a2f7-d556952496ef"
   },
   "outputs": [],
   "source": [
    "hgmd_login_url = \"http://www.hgmd.cf.ac.uk/docs/login.html\"\n",
    "email_address = \"\"\n",
    "password = \"\"\n",
    "\n",
    "def initialize_browser():\n",
    "    browser = mechanize.Browser()\n",
    "    # Cookie Jar\n",
    "    cj = http.cookiejar.LWPCookieJar()\n",
    "    browser.set_cookiejar(cj)\n",
    "\n",
    "    # Browser options\n",
    "    browser.set_handle_equiv(True)\n",
    "#    br.set_handle_gzip(True)\n",
    "    browser.set_handle_redirect(True)\n",
    "    browser.set_handle_referer(True)\n",
    "    browser.set_handle_robots(False)\n",
    "\n",
    "    # Follows refresh 0 but not hangs on refresh > 0\n",
    "    browser.set_handle_refresh(mechanize._http.HTTPRefreshProcessor(), max_time=1)\n",
    "\n",
    "    # Want debugging messages?\n",
    "#    br.set_debug_http(True)\n",
    "#    br.set_debug_redirects(True)\n",
    "#    br.set_debug_responses(True)\n",
    "\n",
    "    # User-Agent (this is cheating, ok?)\n",
    "    browser.addheaders = [('User-agent', 'Mozilla/5.0 (X11; U; Linux i686; en-US; rv:1.9.0.1) Gecko/2008071615 Fedora/3.0.1-1.fc9 Firefox/3.0.1')]\n",
    "    browser.addheaders.append(('email', email_address))\n",
    "\n",
    "    return browser\n",
    "\n",
    "\n",
    "def login_hgmd(browser):\n",
    "    H2T = html2text.HTML2Text()\n",
    "\n",
    "    response = browser.open(hgmd_login_url)\n",
    "    html = response.read()\n",
    "\n",
    "    # print response to STDOUT for debugging purposes\n",
    "    # the html2text library is used for formatting the output in a more readable form\n",
    "    print('Response:')\n",
    "    print(html)\n",
    "    print('---------')\n",
    "\n",
    "    # print all the forms in the current page\n",
    "    print('Forms:')\n",
    "    print([f for f in browser.forms()])\n",
    "    print('---------')\n",
    "\n",
    "    # select login form\n",
    "    browser.select_form(nr=0)\n",
    "    print('Login form:')\n",
    "    print(browser.form)\n",
    "    print('---------')\n",
    "\n",
    "    # print all controls in the current form, for debugging purposes\n",
    "    print('Form controls:')\n",
    "    print([c.name for c in browser.form.controls])\n",
    "    print('---------')\n",
    "\n",
    "    # set username and password\n",
    "    browser.form['email'] = email_address\n",
    "    browser.form['password'] = password\n",
    "\n",
    "    # submit form\n",
    "    response_form = browser.submit()\n",
    "\n",
    "    # Now, you should have successfully logged in. The contents of the page will be changed. Check the contents of br.read()\n",
    "    html_response = response_form.read()\n",
    "    print('Login form response:')\n",
    "    print(html_response)\n",
    "    print('---------')\n",
    "\n",
    "    # wait 2 seconds to not overload the server\n",
    "    time.sleep(2)\n",
    "\n",
    "    return browser\n",
    "\n",
    "br = initialize_browser()\n",
    "br = login_hgmd(br)"
   ]
  },
  {
   "cell_type": "markdown",
   "metadata": {
    "id": "wsOErpgYeqGb"
   },
   "source": [
    "## 2.2. Parce"
   ]
  },
  {
   "cell_type": "markdown",
   "metadata": {
    "id": "FzbIC-BOe2_R"
   },
   "source": [
    "We will iterate over all genes with OMIM ID and will find all PubMed articles"
   ]
  },
  {
   "cell_type": "code",
   "execution_count": null,
   "metadata": {
    "colab": {
     "base_uri": "https://localhost:8080/",
     "height": 272
    },
    "id": "l0YLVFhwesZU",
    "outputId": "767ea4de-74ef-4a85-d6f2-f80b07a6ddf6"
   },
   "outputs": [],
   "source": [
    "df_omim = df[df['OMIM ID(supplied by OMIM)'].notnull()]\n",
    "df_omim.head()"
   ]
  },
  {
   "cell_type": "code",
   "execution_count": null,
   "metadata": {
    "colab": {
     "base_uri": "https://localhost:8080/"
    },
    "id": "eZwGtGnVfOXx",
    "outputId": "ab9c3b84-99c7-45a3-efd8-f0d9570a83cf"
   },
   "outputs": [],
   "source": [
    "search_ngmd_url = 'http://www.hgmd.cf.ac.uk/ac/index.php'\n",
    "gene_url = 'http://www.hgmd.cf.ac.uk/ac/gene.php?gene={}'\n",
    "\n",
    "cur = 0\n",
    "total = df_omim.shape[0]\n",
    "\n",
    "genes_in_hgmd = 0\n",
    "pubmed_articles_num = 0\n",
    "\n",
    "# omim link pattern\n",
    "pattern = re.compile('(http:\\/\\/omim\\.org\\/entry\\/[0-9]*)')\n",
    "\n",
    "# PubMed id pattern\n",
    "pubmed_p = re.compile('\\[PubMed\\: ([0-9]*)\\]')\n",
    "\n",
    "# flag = False\n",
    "\n",
    "result_pubmed_dict = {'gene_symb': [], 'omim_id': [], 'pubmed_id': []}\n",
    "\n",
    "for (i, row) in df_omim.iterrows():\n",
    "    print('Processed:', cur, '/', total, 'Genes in HGMD:', genes_in_hgmd, 'PubMed Articles Num:', pubmed_articles_num, )\n",
    "\n",
    "    symb = row['Approved symbol']\n",
    "\n",
    "    response = br.open(gene_url.format(symb))\n",
    "    html = response.read().decode('utf-8')\n",
    "\n",
    "    omim_links = pattern.findall(html)\n",
    "\n",
    "    if len(omim_links) > 0:\n",
    "        genes_in_hgmd += 1\n",
    "#         flag = True\n",
    "        omim_link = omim_links[0]\n",
    "        \n",
    "        response = br.open(omim_link)\n",
    "        html = response.read().decode('utf-8')\n",
    "\n",
    "        pubmed_ids = pubmed_p.findall(html)\n",
    "\n",
    "        pubmed_articles_num += len(pubmed_ids)\n",
    "        \n",
    "        for pid in pubmed_ids:\n",
    "            result_pubmed_dict['gene_symb'].append(symb)\n",
    "            result_pubmed_dict['omim_id'].append(int(omim_link.split('/')[-1]))\n",
    "            result_pubmed_dict['pubmed_id'].append(int(pid))\n",
    "    \n",
    "#     if flag:\n",
    "#         break\n",
    "\n",
    "    time.sleep(1)\n",
    "\n",
    "    cur += 1"
   ]
  },
  {
   "cell_type": "code",
   "execution_count": null,
   "metadata": {},
   "outputs": [],
   "source": [
    "result_pubmed_df = pd.DataFrame(result_pubmed_dict)\n",
    "\n",
    "result_pubmed_df.to_csv('gdrive/MyDrive/Биоинформатика/ИБ/Проект/Data/2_true_pubmedids_part1.csv', index=False)\n",
    "# result_pubmed_df.to_csv('Data/2_true_pubmedids_part1.csv', index=False)"
   ]
  },
  {
   "cell_type": "code",
   "execution_count": null,
   "metadata": {},
   "outputs": [],
   "source": [
    "print('Number of genes:', len(result_pubmed_df.gene_symb.unique()))\n",
    "print('Number of PubMed Articles:', len(result_pubmed_df.pubmed_id.unique()))"
   ]
  },
  {
   "cell_type": "markdown",
   "metadata": {
    "id": "xIrUeEh-TYkt"
   },
   "source": [
    "# 3. Download titles and abstract from PubMed"
   ]
  },
  {
   "cell_type": "markdown",
   "metadata": {},
   "source": [
    "## 3.1. Download random PubMed articles"
   ]
  },
  {
   "cell_type": "code",
   "execution_count": null,
   "metadata": {
    "id": "o5NYi7L2TXnS"
   },
   "outputs": [],
   "source": [
    "# PubMed min and max id to download random samples\n",
    "pubmed_min_id = 1\n",
    "pubmed_max_id = 33297669\n",
    "\n",
    "negative_class_size = 200000\n",
    "\n",
    "# PubMed settings\n",
    "tool_name = 'MyTool'\n",
    "pubmed_query = 'https://eutils.ncbi.nlm.nih.gov/entrez/eutils/efetch.fcgi?db=pubmed&id={}&tool={}&email={}'\n",
    "\n",
    "# title pattern\n",
    "title_pattern = re.compile('title[\\s]*{[\\s]*name[\\s]*\\\"([^\\}]+)')\n",
    "\n",
    "# abstract pattern\n",
    "abstract_pattern = re.compile('abstract[\\s]*\\\"([^\\\"]+)')\n",
    "\n",
    "def get_pubmed_title_and_abstract(id):\n",
    "    title = None\n",
    "    abstract = None\n",
    "\n",
    "    r = requests.get(pubmed_query.format(id, tool_name, email_address))\n",
    "    clean_text = r.text.replace('\\n', '').replace('\\t', '')\n",
    "    titles = title_pattern.findall(clean_text)\n",
    "\n",
    "    if len(titles) > 0:\n",
    "        title = titles[0][:titles[0].rfind('\"')]\n",
    "\n",
    "        abstracts = abstract_pattern.findall(clean_text)\n",
    "        if len(abstracts) > 0 and abstracts[0] is not None:\n",
    "            abstract = abstracts[0]\n",
    "    \n",
    "    time.sleep(0.2)\n",
    "\n",
    "    # print(id, title, abstract)\n",
    "\n",
    "    return title, abstract"
   ]
  },
  {
   "cell_type": "code",
   "execution_count": null,
   "metadata": {},
   "outputs": [],
   "source": [
    "negative_ids = list(np.random.choice(pubmed_max_id - pubmed_min_id, negative_class_size, replace=False) + pubmed_min_id + 1)\n",
    "\n",
    "results = { 'pubmed_id': [], 'title': [], 'abstract': [] }\n",
    "\n",
    "cur = 0\n",
    "real_num = 0\n",
    "\n",
    "for i in range(len(negative_ids)):\n",
    "    print('Processed:', cur, '/', negative_class_size, 'Not Nones:', real_num)\n",
    "\n",
    "    id = negative_ids[i]\n",
    "    res = get_pubmed_title_and_abstract(id)\n",
    "    if res[0] is not None:\n",
    "        results['pubmed_id'].append(id)\n",
    "        results['title'].append(res[0])\n",
    "        results['abstract'].append(res[1])\n",
    "        real_num += 1\n",
    "\n",
    "    cur += 1"
   ]
  },
  {
   "cell_type": "code",
   "execution_count": null,
   "metadata": {},
   "outputs": [],
   "source": [
    "false_articles_df = pd.DataFrame(results)\n",
    "\n",
    "false_articles_df.loc[false_articles_df.abstract.isna(), 'abstract'] = ''\n",
    "false_articles_df.title = false_articles_df.title.str.split('\",', n=1, expand=True)[0]\n",
    "false_articles_df.title = false_articles_df.title.str.lstrip('[').str.rstrip('].')\n",
    "\n",
    "false_articles_df.to_csv('gdrive/MyDrive/Биоинформатика/ИБ/Проект/Data/3_false_articles.csv', index=False)\n",
    "# false_articles_df.to_csv('Data/3_false_articles.csv', index=False)"
   ]
  },
  {
   "cell_type": "markdown",
   "metadata": {},
   "source": [
    "## 3.2. Download true PubMed articles"
   ]
  },
  {
   "cell_type": "code",
   "execution_count": null,
   "metadata": {},
   "outputs": [],
   "source": [
    "positive_ids = list(result_pubmed_df.pubmed_id.unique())\n",
    "\n",
    "true_results = { 'pubmed_id': [], 'title': [], 'abstract': [] }\n",
    "\n",
    "cur = 0\n",
    "real_num = 0\n",
    "\n",
    "for i in range(len(positive_ids)):\n",
    "    print('Processed:', cur, '/', len(positive_ids), 'Not Nones:', real_num)\n",
    "\n",
    "    id = positive_ids[i]\n",
    "    res = get_pubmed_title_and_abstract(id)\n",
    "    if res[0] is not None:\n",
    "        true_results['pubmed_id'].append(id)\n",
    "        true_results['title'].append(res[0])\n",
    "        true_results['abstract'].append(res[1])\n",
    "        real_num += 1\n",
    "\n",
    "    cur += 1"
   ]
  },
  {
   "cell_type": "code",
   "execution_count": null,
   "metadata": {},
   "outputs": [],
   "source": [
    "true_articles_df = pd.DataFrame(true_results)\n",
    "\n",
    "true_articles_df.loc[true_articles_df.abstract.isna(), 'abstract'] = ''\n",
    "true_articles_df.title = true_articles_df.title.str.split('\",', n=1, expand=True)[0]\n",
    "true_articles_df.title = true_articles_df.title.str.lstrip('[').str.rstrip('].')\n",
    "\n",
    "true_articles_df.to_csv('gdrive/MyDrive/Биоинформатика/ИБ/Проект/Data/3_true_articles.csv', index=False)\n",
    "# true_articles_df.to_csv('Data/3_true_articles.csv', index=False)"
   ]
  },
  {
   "cell_type": "markdown",
   "metadata": {},
   "source": [
    "## 3.3. Remove articles from false df if it in true df"
   ]
  },
  {
   "cell_type": "code",
   "execution_count": null,
   "metadata": {},
   "outputs": [],
   "source": [
    "true_articles_df = pd.read_csv('gdrive/MyDrive/Биоинформатика/ИБ/Проект/Data/3_true_articles.csv').fillna('')\n",
    "false_articles_df = pd.read_csv('gdrive/MyDrive/Биоинформатика/ИБ/Проект/Data/3_false_articles.csv').fillna('')\n",
    "# true_articles_df = pd.read_csv('Data/3_true_articles.csv').fillna('')\n",
    "# false_articles_df = pd.read_csv('Data/3_false_articles.csv').fillna('')\n",
    "\n",
    "false_articles_df = false_articles_df[~false_articles_df.pubmed_id.isin(positive_ids)]"
   ]
  },
  {
   "cell_type": "code",
   "execution_count": null,
   "metadata": {},
   "outputs": [],
   "source": [
    "print('true_articles_df:', true_articles_df.shape[0])\n",
    "print('false_articles_df:', false_articles_df.shape[0])"
   ]
  },
  {
   "cell_type": "markdown",
   "metadata": {},
   "source": [
    "## 3.4. Concat DataSets"
   ]
  },
  {
   "cell_type": "code",
   "execution_count": null,
   "metadata": {},
   "outputs": [],
   "source": [
    "true_articles_df['label'] = int(True)\n",
    "false_articles_df['label'] = int(False)\n",
    "\n",
    "all_articles_df = pd.concat([true_articles_df, false_articles_df]).reset_index(drop=True)"
   ]
  },
  {
   "cell_type": "code",
   "execution_count": null,
   "metadata": {},
   "outputs": [],
   "source": [
    "# all_articles_df.to_csv('gdrive/MyDrive/Биоинформатика/ИБ/Проект/Data/3_all_articles.csv', index=False)\n",
    "all_articles_df.to_csv('Data/3_all_articles.csv', index=False)"
   ]
  },
  {
   "cell_type": "markdown",
   "metadata": {},
   "source": [
    "## 3.5. Create validation set"
   ]
  },
  {
   "cell_type": "code",
   "execution_count": null,
   "metadata": {},
   "outputs": [],
   "source": [
    "all_articles_df.label.sum() / all_articles_df.shape[0]"
   ]
  },
  {
   "cell_type": "code",
   "execution_count": null,
   "metadata": {},
   "outputs": [],
   "source": [
    "test = all_articles_df.sample(2000)\n",
    "test.label.sum() / test.shape[0]"
   ]
  },
  {
   "cell_type": "code",
   "execution_count": null,
   "metadata": {},
   "outputs": [],
   "source": [
    "all_articles_df.shape"
   ]
  },
  {
   "cell_type": "code",
   "execution_count": null,
   "metadata": {},
   "outputs": [],
   "source": [
    "TRAIN_articles_df = all_articles_df.drop(test.index)"
   ]
  },
  {
   "cell_type": "code",
   "execution_count": null,
   "metadata": {},
   "outputs": [],
   "source": [
    "TRAIN_articles_df.to_csv('gdrive/MyDrive/Биоинформатика/ИБ/Проект/Data/3_TRAIN_articles.csv', index=False)\n",
    "test.to_csv('gdrive/MyDrive/Биоинформатика/ИБ/Проект/Data/3_TEST_articles.csv', index=False)\n",
    "# TRAIN_articles_df.to_csv('Data/3_TRAIN_articles.csv', index=False)\n",
    "# test.to_csv('Data/3_TEST_articles.csv', index=False)"
   ]
  },
  {
   "cell_type": "code",
   "execution_count": null,
   "metadata": {},
   "outputs": [],
   "source": []
  }
 ],
 "metadata": {
  "colab": {
   "name": "DataCollection.ipynb",
   "provenance": []
  },
  "kernelspec": {
   "display_name": "Python 3",
   "language": "python",
   "name": "python3"
  },
  "language_info": {
   "codemirror_mode": {
    "name": "ipython",
    "version": 3
   },
   "file_extension": ".py",
   "mimetype": "text/x-python",
   "name": "python",
   "nbconvert_exporter": "python",
   "pygments_lexer": "ipython3",
   "version": "3.8.6"
  }
 },
 "nbformat": 4,
 "nbformat_minor": 1
}
